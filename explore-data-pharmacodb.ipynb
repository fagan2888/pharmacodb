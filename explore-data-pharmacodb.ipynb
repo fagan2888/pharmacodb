{
 "cells": [
  {
   "cell_type": "code",
   "execution_count": 43,
   "metadata": {
    "collapsed": true
   },
   "outputs": [],
   "source": [
    "import pandas as pd\n",
    "import numpy as np\n",
    "import sqlite3\n",
    "import matplotlib, matplotlib.pyplot as plt"
   ]
  },
  {
   "cell_type": "code",
   "execution_count": 2,
   "metadata": {
    "collapsed": false
   },
   "outputs": [],
   "source": [
    "connection = sqlite3.connect(\"/data/lisa/data/pharmacodb/pharmacodb-1.1.1.sqlite\")"
   ]
  },
  {
   "cell_type": "code",
   "execution_count": 3,
   "metadata": {
    "collapsed": false
   },
   "outputs": [
    {
     "data": {
      "text/html": [
       "<div>\n",
       "<style scoped>\n",
       "    .dataframe tbody tr th:only-of-type {\n",
       "        vertical-align: middle;\n",
       "    }\n",
       "\n",
       "    .dataframe tbody tr th {\n",
       "        vertical-align: top;\n",
       "    }\n",
       "\n",
       "    .dataframe thead th {\n",
       "        text-align: right;\n",
       "    }\n",
       "</style>\n",
       "<table border=\"1\" class=\"dataframe\">\n",
       "  <thead>\n",
       "    <tr style=\"text-align: right;\">\n",
       "      <th></th>\n",
       "      <th>name</th>\n",
       "    </tr>\n",
       "  </thead>\n",
       "  <tbody>\n",
       "    <tr>\n",
       "      <th>0</th>\n",
       "      <td>ar_internal_metadata</td>\n",
       "    </tr>\n",
       "    <tr>\n",
       "      <th>1</th>\n",
       "      <td>cell_tissues</td>\n",
       "    </tr>\n",
       "    <tr>\n",
       "      <th>2</th>\n",
       "      <td>sqlite_sequence</td>\n",
       "    </tr>\n",
       "    <tr>\n",
       "      <th>3</th>\n",
       "      <td>cellosaurus</td>\n",
       "    </tr>\n",
       "    <tr>\n",
       "      <th>4</th>\n",
       "      <td>cells</td>\n",
       "    </tr>\n",
       "    <tr>\n",
       "      <th>5</th>\n",
       "      <td>dataset_cells</td>\n",
       "    </tr>\n",
       "    <tr>\n",
       "      <th>6</th>\n",
       "      <td>datasets</td>\n",
       "    </tr>\n",
       "    <tr>\n",
       "      <th>7</th>\n",
       "      <td>dose_responses</td>\n",
       "    </tr>\n",
       "    <tr>\n",
       "      <th>8</th>\n",
       "      <td>drug_annots</td>\n",
       "    </tr>\n",
       "    <tr>\n",
       "      <th>9</th>\n",
       "      <td>drug_targets</td>\n",
       "    </tr>\n",
       "    <tr>\n",
       "      <th>10</th>\n",
       "      <td>drugs</td>\n",
       "    </tr>\n",
       "    <tr>\n",
       "      <th>11</th>\n",
       "      <td>experiments</td>\n",
       "    </tr>\n",
       "    <tr>\n",
       "      <th>12</th>\n",
       "      <td>gene_drugs</td>\n",
       "    </tr>\n",
       "    <tr>\n",
       "      <th>13</th>\n",
       "      <td>genes</td>\n",
       "    </tr>\n",
       "    <tr>\n",
       "      <th>14</th>\n",
       "      <td>mol_cells</td>\n",
       "    </tr>\n",
       "    <tr>\n",
       "      <th>15</th>\n",
       "      <td>profiles</td>\n",
       "    </tr>\n",
       "    <tr>\n",
       "      <th>16</th>\n",
       "      <td>schema_migrations</td>\n",
       "    </tr>\n",
       "    <tr>\n",
       "      <th>17</th>\n",
       "      <td>source_cell_names</td>\n",
       "    </tr>\n",
       "    <tr>\n",
       "      <th>18</th>\n",
       "      <td>source_drug_names</td>\n",
       "    </tr>\n",
       "    <tr>\n",
       "      <th>19</th>\n",
       "      <td>source_statistics</td>\n",
       "    </tr>\n",
       "    <tr>\n",
       "      <th>20</th>\n",
       "      <td>source_tissue_names</td>\n",
       "    </tr>\n",
       "    <tr>\n",
       "      <th>21</th>\n",
       "      <td>sources</td>\n",
       "    </tr>\n",
       "    <tr>\n",
       "      <th>22</th>\n",
       "      <td>targets</td>\n",
       "    </tr>\n",
       "    <tr>\n",
       "      <th>23</th>\n",
       "      <td>tissues</td>\n",
       "    </tr>\n",
       "  </tbody>\n",
       "</table>\n",
       "</div>"
      ],
      "text/plain": [
       "                    name\n",
       "0   ar_internal_metadata\n",
       "1           cell_tissues\n",
       "2        sqlite_sequence\n",
       "3            cellosaurus\n",
       "4                  cells\n",
       "5          dataset_cells\n",
       "6               datasets\n",
       "7         dose_responses\n",
       "8            drug_annots\n",
       "9           drug_targets\n",
       "10                 drugs\n",
       "11           experiments\n",
       "12            gene_drugs\n",
       "13                 genes\n",
       "14             mol_cells\n",
       "15              profiles\n",
       "16     schema_migrations\n",
       "17     source_cell_names\n",
       "18     source_drug_names\n",
       "19     source_statistics\n",
       "20   source_tissue_names\n",
       "21               sources\n",
       "22               targets\n",
       "23               tissues"
      ]
     },
     "execution_count": 3,
     "metadata": {},
     "output_type": "execute_result"
    }
   ],
   "source": [
    "pd.read_sql_query(\"SELECT name FROM sqlite_master WHERE type='table';\",connection)"
   ]
  },
  {
   "cell_type": "code",
   "execution_count": null,
   "metadata": {
    "collapsed": false
   },
   "outputs": [],
   "source": []
  },
  {
   "cell_type": "code",
   "execution_count": 4,
   "metadata": {
    "collapsed": false
   },
   "outputs": [
    {
     "data": {
      "text/html": [
       "<div>\n",
       "<style scoped>\n",
       "    .dataframe tbody tr th:only-of-type {\n",
       "        vertical-align: middle;\n",
       "    }\n",
       "\n",
       "    .dataframe tbody tr th {\n",
       "        vertical-align: top;\n",
       "    }\n",
       "\n",
       "    .dataframe thead th {\n",
       "        text-align: right;\n",
       "    }\n",
       "</style>\n",
       "<table border=\"1\" class=\"dataframe\">\n",
       "  <thead>\n",
       "    <tr style=\"text-align: right;\">\n",
       "      <th></th>\n",
       "      <th>experiment_id</th>\n",
       "      <th>HS</th>\n",
       "      <th>Einf</th>\n",
       "      <th>EC50</th>\n",
       "      <th>AAC</th>\n",
       "      <th>IC50</th>\n",
       "      <th>DSS1</th>\n",
       "      <th>DSS2</th>\n",
       "      <th>DSS3</th>\n",
       "    </tr>\n",
       "  </thead>\n",
       "  <tbody>\n",
       "    <tr>\n",
       "      <th>0</th>\n",
       "      <td>1</td>\n",
       "      <td>0.746334</td>\n",
       "      <td>0.201721</td>\n",
       "      <td>0.816574</td>\n",
       "      <td>0.101705</td>\n",
       "      <td>1.117170</td>\n",
       "      <td>0.055120</td>\n",
       "      <td>0.012585</td>\n",
       "      <td>0.004371</td>\n",
       "    </tr>\n",
       "    <tr>\n",
       "      <th>1</th>\n",
       "      <td>2</td>\n",
       "      <td>0.666924</td>\n",
       "      <td>0.000000</td>\n",
       "      <td>0.339757</td>\n",
       "      <td>0.223977</td>\n",
       "      <td>0.339757</td>\n",
       "      <td>0.166143</td>\n",
       "      <td>0.036077</td>\n",
       "      <td>0.020525</td>\n",
       "    </tr>\n",
       "    <tr>\n",
       "      <th>2</th>\n",
       "      <td>3</td>\n",
       "      <td>2.898750</td>\n",
       "      <td>0.362617</td>\n",
       "      <td>0.236141</td>\n",
       "      <td>0.121595</td>\n",
       "      <td>0.429685</td>\n",
       "      <td>0.100812</td>\n",
       "      <td>0.024264</td>\n",
       "      <td>0.006361</td>\n",
       "    </tr>\n",
       "    <tr>\n",
       "      <th>3</th>\n",
       "      <td>4</td>\n",
       "      <td>1.080270</td>\n",
       "      <td>0.000000</td>\n",
       "      <td>0.715953</td>\n",
       "      <td>0.109245</td>\n",
       "      <td>0.715953</td>\n",
       "      <td>0.074055</td>\n",
       "      <td>0.016081</td>\n",
       "      <td>0.004911</td>\n",
       "    </tr>\n",
       "    <tr>\n",
       "      <th>4</th>\n",
       "      <td>5</td>\n",
       "      <td>0.560433</td>\n",
       "      <td>0.173457</td>\n",
       "      <td>0.402657</td>\n",
       "      <td>0.191285</td>\n",
       "      <td>0.732813</td>\n",
       "      <td>0.125938</td>\n",
       "      <td>0.028527</td>\n",
       "      <td>0.016580</td>\n",
       "    </tr>\n",
       "  </tbody>\n",
       "</table>\n",
       "</div>"
      ],
      "text/plain": [
       "   experiment_id        HS      Einf      EC50       AAC      IC50      DSS1  \\\n",
       "0              1  0.746334  0.201721  0.816574  0.101705  1.117170  0.055120   \n",
       "1              2  0.666924  0.000000  0.339757  0.223977  0.339757  0.166143   \n",
       "2              3  2.898750  0.362617  0.236141  0.121595  0.429685  0.100812   \n",
       "3              4  1.080270  0.000000  0.715953  0.109245  0.715953  0.074055   \n",
       "4              5  0.560433  0.173457  0.402657  0.191285  0.732813  0.125938   \n",
       "\n",
       "       DSS2      DSS3  \n",
       "0  0.012585  0.004371  \n",
       "1  0.036077  0.020525  \n",
       "2  0.024264  0.006361  \n",
       "3  0.016081  0.004911  \n",
       "4  0.028527  0.016580  "
      ]
     },
     "execution_count": 4,
     "metadata": {},
     "output_type": "execute_result"
    }
   ],
   "source": [
    "pd.read_sql_query(\"SELECT * from profiles;\",connection).head()"
   ]
  },
  {
   "cell_type": "code",
   "execution_count": 12,
   "metadata": {
    "collapsed": false
   },
   "outputs": [
    {
     "data": {
      "text/plain": [
       "(650894, 9)"
      ]
     },
     "execution_count": 12,
     "metadata": {},
     "output_type": "execute_result"
    }
   ],
   "source": [
    "pd.read_sql_query(\"SELECT * from profiles;\",connection).shape"
   ]
  },
  {
   "cell_type": "code",
   "execution_count": null,
   "metadata": {
    "collapsed": true
   },
   "outputs": [],
   "source": []
  },
  {
   "cell_type": "code",
   "execution_count": 19,
   "metadata": {
    "collapsed": false
   },
   "outputs": [
    {
     "data": {
      "text/html": [
       "<div>\n",
       "<style scoped>\n",
       "    .dataframe tbody tr th:only-of-type {\n",
       "        vertical-align: middle;\n",
       "    }\n",
       "\n",
       "    .dataframe tbody tr th {\n",
       "        vertical-align: top;\n",
       "    }\n",
       "\n",
       "    .dataframe thead th {\n",
       "        text-align: right;\n",
       "    }\n",
       "</style>\n",
       "<table border=\"1\" class=\"dataframe\">\n",
       "  <thead>\n",
       "    <tr style=\"text-align: right;\">\n",
       "      <th></th>\n",
       "      <th>experiment_id</th>\n",
       "      <th>cell_id</th>\n",
       "      <th>drug_id</th>\n",
       "      <th>dataset_id</th>\n",
       "      <th>tissue_id</th>\n",
       "    </tr>\n",
       "  </thead>\n",
       "  <tbody>\n",
       "    <tr>\n",
       "      <th>0</th>\n",
       "      <td>1</td>\n",
       "      <td>2</td>\n",
       "      <td>21</td>\n",
       "      <td>1</td>\n",
       "      <td>9</td>\n",
       "    </tr>\n",
       "    <tr>\n",
       "      <th>1</th>\n",
       "      <td>2</td>\n",
       "      <td>12</td>\n",
       "      <td>21</td>\n",
       "      <td>1</td>\n",
       "      <td>28</td>\n",
       "    </tr>\n",
       "    <tr>\n",
       "      <th>2</th>\n",
       "      <td>3</td>\n",
       "      <td>16</td>\n",
       "      <td>21</td>\n",
       "      <td>1</td>\n",
       "      <td>9</td>\n",
       "    </tr>\n",
       "    <tr>\n",
       "      <th>3</th>\n",
       "      <td>4</td>\n",
       "      <td>20</td>\n",
       "      <td>21</td>\n",
       "      <td>1</td>\n",
       "      <td>38</td>\n",
       "    </tr>\n",
       "    <tr>\n",
       "      <th>4</th>\n",
       "      <td>5</td>\n",
       "      <td>24</td>\n",
       "      <td>21</td>\n",
       "      <td>1</td>\n",
       "      <td>38</td>\n",
       "    </tr>\n",
       "  </tbody>\n",
       "</table>\n",
       "</div>"
      ],
      "text/plain": [
       "   experiment_id  cell_id  drug_id  dataset_id  tissue_id\n",
       "0              1        2       21           1          9\n",
       "1              2       12       21           1         28\n",
       "2              3       16       21           1          9\n",
       "3              4       20       21           1         38\n",
       "4              5       24       21           1         38"
      ]
     },
     "execution_count": 19,
     "metadata": {},
     "output_type": "execute_result"
    }
   ],
   "source": [
    "pd.read_sql_query(\"SELECT * from experiments;\",connection).head()"
   ]
  },
  {
   "cell_type": "code",
   "execution_count": 37,
   "metadata": {
    "collapsed": false,
    "scrolled": false
   },
   "outputs": [],
   "source": [
    "query = \"\"\"\n",
    "SELECT * from experiments \n",
    "INNER JOIN datasets ON experiments.dataset_id=datasets.dataset_id\n",
    "INNER JOIN cells ON experiments.cell_id = cells.cell_id\n",
    "INNER JOIN drugs ON experiments.drug_id = drugs.drug_id\n",
    "INNER JOIN tissues ON experiments.tissue_id = tissues.tissue_id\n",
    "LIMIT 10\n",
    "\"\"\"\n",
    "\n",
    "res = pd.read_sql_query(query,connection).head()\n",
    "res = res.set_index(\"experiment_id\")\n",
    "#drop id cols\n",
    "todrop = [col for col in res.columns if \"_id\" in col]\n",
    "res = res.drop(todrop, axis=1)"
   ]
  },
  {
   "cell_type": "code",
   "execution_count": 38,
   "metadata": {
    "collapsed": false
   },
   "outputs": [
    {
     "data": {
      "text/html": [
       "<div>\n",
       "<style scoped>\n",
       "    .dataframe tbody tr th:only-of-type {\n",
       "        vertical-align: middle;\n",
       "    }\n",
       "\n",
       "    .dataframe tbody tr th {\n",
       "        vertical-align: top;\n",
       "    }\n",
       "\n",
       "    .dataframe thead th {\n",
       "        text-align: right;\n",
       "    }\n",
       "</style>\n",
       "<table border=\"1\" class=\"dataframe\">\n",
       "  <thead>\n",
       "    <tr style=\"text-align: right;\">\n",
       "      <th></th>\n",
       "      <th>dataset_name</th>\n",
       "      <th>cell_name</th>\n",
       "      <th>drug_name</th>\n",
       "      <th>tissue_name</th>\n",
       "    </tr>\n",
       "    <tr>\n",
       "      <th>experiment_id</th>\n",
       "      <th></th>\n",
       "      <th></th>\n",
       "      <th></th>\n",
       "      <th></th>\n",
       "    </tr>\n",
       "  </thead>\n",
       "  <tbody>\n",
       "    <tr>\n",
       "      <th>1</th>\n",
       "      <td>CCLE</td>\n",
       "      <td>1321N1</td>\n",
       "      <td>AEW541</td>\n",
       "      <td>central_nervous_system</td>\n",
       "    </tr>\n",
       "    <tr>\n",
       "      <th>2</th>\n",
       "      <td>CCLE</td>\n",
       "      <td>22RV1</td>\n",
       "      <td>AEW541</td>\n",
       "      <td>prostate</td>\n",
       "    </tr>\n",
       "    <tr>\n",
       "      <th>3</th>\n",
       "      <td>CCLE</td>\n",
       "      <td>42-MG-BA</td>\n",
       "      <td>AEW541</td>\n",
       "      <td>central_nervous_system</td>\n",
       "    </tr>\n",
       "    <tr>\n",
       "      <th>4</th>\n",
       "      <td>CCLE</td>\n",
       "      <td>5637</td>\n",
       "      <td>AEW541</td>\n",
       "      <td>urinary_tract</td>\n",
       "    </tr>\n",
       "    <tr>\n",
       "      <th>5</th>\n",
       "      <td>CCLE</td>\n",
       "      <td>639-V</td>\n",
       "      <td>AEW541</td>\n",
       "      <td>urinary_tract</td>\n",
       "    </tr>\n",
       "  </tbody>\n",
       "</table>\n",
       "</div>"
      ],
      "text/plain": [
       "              dataset_name cell_name drug_name             tissue_name\n",
       "experiment_id                                                         \n",
       "1                     CCLE    1321N1    AEW541  central_nervous_system\n",
       "2                     CCLE     22RV1    AEW541                prostate\n",
       "3                     CCLE  42-MG-BA    AEW541  central_nervous_system\n",
       "4                     CCLE      5637    AEW541           urinary_tract\n",
       "5                     CCLE     639-V    AEW541           urinary_tract"
      ]
     },
     "execution_count": 38,
     "metadata": {},
     "output_type": "execute_result"
    }
   ],
   "source": [
    "res"
   ]
  },
  {
   "cell_type": "code",
   "execution_count": 30,
   "metadata": {
    "collapsed": false
   },
   "outputs": [],
   "source": []
  },
  {
   "cell_type": "code",
   "execution_count": null,
   "metadata": {
    "collapsed": true
   },
   "outputs": [],
   "source": []
  },
  {
   "cell_type": "code",
   "execution_count": 35,
   "metadata": {
    "collapsed": false,
    "scrolled": false
   },
   "outputs": [
    {
     "data": {
      "text/html": [
       "<div>\n",
       "<style scoped>\n",
       "    .dataframe tbody tr th:only-of-type {\n",
       "        vertical-align: middle;\n",
       "    }\n",
       "\n",
       "    .dataframe tbody tr th {\n",
       "        vertical-align: top;\n",
       "    }\n",
       "\n",
       "    .dataframe thead th {\n",
       "        text-align: right;\n",
       "    }\n",
       "</style>\n",
       "<table border=\"1\" class=\"dataframe\">\n",
       "  <thead>\n",
       "    <tr style=\"text-align: right;\">\n",
       "      <th></th>\n",
       "      <th>experiment_id</th>\n",
       "      <th>HS</th>\n",
       "      <th>Einf</th>\n",
       "      <th>EC50</th>\n",
       "      <th>AAC</th>\n",
       "      <th>IC50</th>\n",
       "      <th>DSS1</th>\n",
       "      <th>DSS2</th>\n",
       "      <th>DSS3</th>\n",
       "    </tr>\n",
       "  </thead>\n",
       "  <tbody>\n",
       "    <tr>\n",
       "      <th>0</th>\n",
       "      <td>1</td>\n",
       "      <td>0.746334</td>\n",
       "      <td>0.201721</td>\n",
       "      <td>0.816574</td>\n",
       "      <td>0.101705</td>\n",
       "      <td>1.117170</td>\n",
       "      <td>0.055120</td>\n",
       "      <td>0.012585</td>\n",
       "      <td>0.004371</td>\n",
       "    </tr>\n",
       "    <tr>\n",
       "      <th>1</th>\n",
       "      <td>2</td>\n",
       "      <td>0.666924</td>\n",
       "      <td>0.000000</td>\n",
       "      <td>0.339757</td>\n",
       "      <td>0.223977</td>\n",
       "      <td>0.339757</td>\n",
       "      <td>0.166143</td>\n",
       "      <td>0.036077</td>\n",
       "      <td>0.020525</td>\n",
       "    </tr>\n",
       "    <tr>\n",
       "      <th>2</th>\n",
       "      <td>3</td>\n",
       "      <td>2.898750</td>\n",
       "      <td>0.362617</td>\n",
       "      <td>0.236141</td>\n",
       "      <td>0.121595</td>\n",
       "      <td>0.429685</td>\n",
       "      <td>0.100812</td>\n",
       "      <td>0.024264</td>\n",
       "      <td>0.006361</td>\n",
       "    </tr>\n",
       "    <tr>\n",
       "      <th>3</th>\n",
       "      <td>4</td>\n",
       "      <td>1.080270</td>\n",
       "      <td>0.000000</td>\n",
       "      <td>0.715953</td>\n",
       "      <td>0.109245</td>\n",
       "      <td>0.715953</td>\n",
       "      <td>0.074055</td>\n",
       "      <td>0.016081</td>\n",
       "      <td>0.004911</td>\n",
       "    </tr>\n",
       "    <tr>\n",
       "      <th>4</th>\n",
       "      <td>5</td>\n",
       "      <td>0.560433</td>\n",
       "      <td>0.173457</td>\n",
       "      <td>0.402657</td>\n",
       "      <td>0.191285</td>\n",
       "      <td>0.732813</td>\n",
       "      <td>0.125938</td>\n",
       "      <td>0.028527</td>\n",
       "      <td>0.016580</td>\n",
       "    </tr>\n",
       "  </tbody>\n",
       "</table>\n",
       "</div>"
      ],
      "text/plain": [
       "   experiment_id        HS      Einf      EC50       AAC      IC50      DSS1  \\\n",
       "0              1  0.746334  0.201721  0.816574  0.101705  1.117170  0.055120   \n",
       "1              2  0.666924  0.000000  0.339757  0.223977  0.339757  0.166143   \n",
       "2              3  2.898750  0.362617  0.236141  0.121595  0.429685  0.100812   \n",
       "3              4  1.080270  0.000000  0.715953  0.109245  0.715953  0.074055   \n",
       "4              5  0.560433  0.173457  0.402657  0.191285  0.732813  0.125938   \n",
       "\n",
       "       DSS2      DSS3  \n",
       "0  0.012585  0.004371  \n",
       "1  0.036077  0.020525  \n",
       "2  0.024264  0.006361  \n",
       "3  0.016081  0.004911  \n",
       "4  0.028527  0.016580  "
      ]
     },
     "execution_count": 35,
     "metadata": {},
     "output_type": "execute_result"
    }
   ],
   "source": [
    "pd.read_sql_query(\"SELECT * from profiles;\",connection).head()"
   ]
  },
  {
   "cell_type": "code",
   "execution_count": 36,
   "metadata": {
    "collapsed": false
   },
   "outputs": [
    {
     "data": {
      "text/plain": [
       "(650894, 9)"
      ]
     },
     "execution_count": 36,
     "metadata": {},
     "output_type": "execute_result"
    }
   ],
   "source": [
    "pd.read_sql_query(\"SELECT * from profiles;\",connection).shape"
   ]
  },
  {
   "cell_type": "code",
   "execution_count": null,
   "metadata": {
    "collapsed": true
   },
   "outputs": [],
   "source": []
  },
  {
   "cell_type": "code",
   "execution_count": null,
   "metadata": {
    "collapsed": true
   },
   "outputs": [],
   "source": []
  },
  {
   "cell_type": "code",
   "execution_count": 39,
   "metadata": {
    "collapsed": false,
    "scrolled": false
   },
   "outputs": [
    {
     "data": {
      "text/html": [
       "<div>\n",
       "<style scoped>\n",
       "    .dataframe tbody tr th:only-of-type {\n",
       "        vertical-align: middle;\n",
       "    }\n",
       "\n",
       "    .dataframe tbody tr th {\n",
       "        vertical-align: top;\n",
       "    }\n",
       "\n",
       "    .dataframe thead th {\n",
       "        text-align: right;\n",
       "    }\n",
       "</style>\n",
       "<table border=\"1\" class=\"dataframe\">\n",
       "  <thead>\n",
       "    <tr style=\"text-align: right;\">\n",
       "      <th></th>\n",
       "      <th>id</th>\n",
       "      <th>identifier</th>\n",
       "      <th>accession</th>\n",
       "      <th>as</th>\n",
       "      <th>sy</th>\n",
       "      <th>dr</th>\n",
       "      <th>rx</th>\n",
       "      <th>ww</th>\n",
       "      <th>cc</th>\n",
       "      <th>st</th>\n",
       "      <th>di</th>\n",
       "      <th>ox</th>\n",
       "      <th>hi</th>\n",
       "      <th>oi</th>\n",
       "      <th>sx</th>\n",
       "      <th>ca</th>\n",
       "      <th>created_at</th>\n",
       "      <th>updated_at</th>\n",
       "    </tr>\n",
       "  </thead>\n",
       "  <tbody>\n",
       "    <tr>\n",
       "      <th>0</th>\n",
       "      <td>1</td>\n",
       "      <td>#15310-LN</td>\n",
       "      <td>CVCL_E548</td>\n",
       "      <td>None</td>\n",
       "      <td>15310-LN; TER461</td>\n",
       "      <td>dbMHC; 48439 | ECACC; 94050311 | IHW; IHW9326 ...</td>\n",
       "      <td>None</td>\n",
       "      <td>http://bioinformatics.hsanmartino.it/ecbr/cl32...</td>\n",
       "      <td>Part of: 12th International Histocompatibility...</td>\n",
       "      <td>None</td>\n",
       "      <td>None</td>\n",
       "      <td>NCBI_TaxID=9606; ! Homo sapiens</td>\n",
       "      <td>None</td>\n",
       "      <td>None</td>\n",
       "      <td>Female</td>\n",
       "      <td>Transformed cell line</td>\n",
       "      <td>2017-02-21 18:11:26</td>\n",
       "      <td>2017-02-21 18:11:26</td>\n",
       "    </tr>\n",
       "    <tr>\n",
       "      <th>1</th>\n",
       "      <td>2</td>\n",
       "      <td>#490</td>\n",
       "      <td>CVCL_B375</td>\n",
       "      <td>None</td>\n",
       "      <td>Mab 7; Mab7</td>\n",
       "      <td>CLO; CLO_0001018 | ATCC; HB-12029</td>\n",
       "      <td>Patent=US5616470;</td>\n",
       "      <td>None</td>\n",
       "      <td>Monoclonal antibody target: Cronartium ribicol...</td>\n",
       "      <td>None</td>\n",
       "      <td>None</td>\n",
       "      <td>NCBI_TaxID=10090; ! Mus musculus</td>\n",
       "      <td>CVCL_4032 ! P3X63Ag8.653</td>\n",
       "      <td>None</td>\n",
       "      <td>None</td>\n",
       "      <td>Hybridoma</td>\n",
       "      <td>2017-02-21 18:11:26</td>\n",
       "      <td>2017-02-21 18:11:26</td>\n",
       "    </tr>\n",
       "    <tr>\n",
       "      <th>2</th>\n",
       "      <td>3</td>\n",
       "      <td>#822</td>\n",
       "      <td>CVCL_X345</td>\n",
       "      <td>None</td>\n",
       "      <td>Mab 13; Mab13</td>\n",
       "      <td>ATCC; HB-12030</td>\n",
       "      <td>Patent=US5616470;</td>\n",
       "      <td>None</td>\n",
       "      <td>Monoclonal antibody target: Cronartium ribicol...</td>\n",
       "      <td>None</td>\n",
       "      <td>None</td>\n",
       "      <td>NCBI_TaxID=10090; ! Mus musculus</td>\n",
       "      <td>CVCL_4032 ! P3X63Ag8.653</td>\n",
       "      <td>None</td>\n",
       "      <td>None</td>\n",
       "      <td>Hybridoma</td>\n",
       "      <td>2017-02-21 18:11:26</td>\n",
       "      <td>2017-02-21 18:11:26</td>\n",
       "    </tr>\n",
       "    <tr>\n",
       "      <th>3</th>\n",
       "      <td>4</td>\n",
       "      <td>#W7079</td>\n",
       "      <td>CVCL_E549</td>\n",
       "      <td>None</td>\n",
       "      <td>#W7079 REM; REMUS; W7079</td>\n",
       "      <td>dbMHC; 48440 | ECACC; 94022552 | IHW; IHW9223 ...</td>\n",
       "      <td>None</td>\n",
       "      <td>http://bioinformatics.hsanmartino.it/ecbr/cl22...</td>\n",
       "      <td>Part of: 12th International Histocompatibility...</td>\n",
       "      <td>None</td>\n",
       "      <td>None</td>\n",
       "      <td>NCBI_TaxID=9606; ! Homo sapiens</td>\n",
       "      <td>None</td>\n",
       "      <td>None</td>\n",
       "      <td>Sex undetermined</td>\n",
       "      <td>Transformed cell line</td>\n",
       "      <td>2017-02-21 18:11:26</td>\n",
       "      <td>2017-02-21 18:11:26</td>\n",
       "    </tr>\n",
       "    <tr>\n",
       "      <th>4</th>\n",
       "      <td>5</td>\n",
       "      <td>(BF1) 8A3.31</td>\n",
       "      <td>CVCL_G217</td>\n",
       "      <td>None</td>\n",
       "      <td>None</td>\n",
       "      <td>CLO; CLO_0001019 | ATCC; HB-9283</td>\n",
       "      <td>Patent=US4845026;</td>\n",
       "      <td>None</td>\n",
       "      <td>None</td>\n",
       "      <td>None</td>\n",
       "      <td>None</td>\n",
       "      <td>NCBI_TaxID=10090; ! Mus musculus</td>\n",
       "      <td>None</td>\n",
       "      <td>None</td>\n",
       "      <td>None</td>\n",
       "      <td>Hybridoma</td>\n",
       "      <td>2017-02-21 18:11:26</td>\n",
       "      <td>2017-02-21 18:11:26</td>\n",
       "    </tr>\n",
       "  </tbody>\n",
       "</table>\n",
       "</div>"
      ],
      "text/plain": [
       "   id    identifier  accession    as                        sy  \\\n",
       "0   1     #15310-LN  CVCL_E548  None          15310-LN; TER461   \n",
       "1   2          #490  CVCL_B375  None               Mab 7; Mab7   \n",
       "2   3          #822  CVCL_X345  None             Mab 13; Mab13   \n",
       "3   4        #W7079  CVCL_E549  None  #W7079 REM; REMUS; W7079   \n",
       "4   5  (BF1) 8A3.31  CVCL_G217  None                      None   \n",
       "\n",
       "                                                  dr                 rx  \\\n",
       "0  dbMHC; 48439 | ECACC; 94050311 | IHW; IHW9326 ...               None   \n",
       "1                  CLO; CLO_0001018 | ATCC; HB-12029  Patent=US5616470;   \n",
       "2                                     ATCC; HB-12030  Patent=US5616470;   \n",
       "3  dbMHC; 48440 | ECACC; 94022552 | IHW; IHW9223 ...               None   \n",
       "4                   CLO; CLO_0001019 | ATCC; HB-9283  Patent=US4845026;   \n",
       "\n",
       "                                                  ww  \\\n",
       "0  http://bioinformatics.hsanmartino.it/ecbr/cl32...   \n",
       "1                                               None   \n",
       "2                                               None   \n",
       "3  http://bioinformatics.hsanmartino.it/ecbr/cl22...   \n",
       "4                                               None   \n",
       "\n",
       "                                                  cc    st    di  \\\n",
       "0  Part of: 12th International Histocompatibility...  None  None   \n",
       "1  Monoclonal antibody target: Cronartium ribicol...  None  None   \n",
       "2  Monoclonal antibody target: Cronartium ribicol...  None  None   \n",
       "3  Part of: 12th International Histocompatibility...  None  None   \n",
       "4                                               None  None  None   \n",
       "\n",
       "                                 ox                        hi    oi  \\\n",
       "0   NCBI_TaxID=9606; ! Homo sapiens                      None  None   \n",
       "1  NCBI_TaxID=10090; ! Mus musculus  CVCL_4032 ! P3X63Ag8.653  None   \n",
       "2  NCBI_TaxID=10090; ! Mus musculus  CVCL_4032 ! P3X63Ag8.653  None   \n",
       "3   NCBI_TaxID=9606; ! Homo sapiens                      None  None   \n",
       "4  NCBI_TaxID=10090; ! Mus musculus                      None  None   \n",
       "\n",
       "                 sx                     ca           created_at  \\\n",
       "0            Female  Transformed cell line  2017-02-21 18:11:26   \n",
       "1              None              Hybridoma  2017-02-21 18:11:26   \n",
       "2              None              Hybridoma  2017-02-21 18:11:26   \n",
       "3  Sex undetermined  Transformed cell line  2017-02-21 18:11:26   \n",
       "4              None              Hybridoma  2017-02-21 18:11:26   \n",
       "\n",
       "            updated_at  \n",
       "0  2017-02-21 18:11:26  \n",
       "1  2017-02-21 18:11:26  \n",
       "2  2017-02-21 18:11:26  \n",
       "3  2017-02-21 18:11:26  \n",
       "4  2017-02-21 18:11:26  "
      ]
     },
     "execution_count": 39,
     "metadata": {},
     "output_type": "execute_result"
    }
   ],
   "source": [
    "pd.read_sql_query(\"SELECT * from cellosaurus;\",connection).head()"
   ]
  },
  {
   "cell_type": "code",
   "execution_count": null,
   "metadata": {
    "collapsed": true
   },
   "outputs": [],
   "source": []
  },
  {
   "cell_type": "code",
   "execution_count": null,
   "metadata": {
    "collapsed": true
   },
   "outputs": [],
   "source": []
  },
  {
   "cell_type": "code",
   "execution_count": 41,
   "metadata": {
    "collapsed": false
   },
   "outputs": [
    {
     "data": {
      "text/html": [
       "<div>\n",
       "<style scoped>\n",
       "    .dataframe tbody tr th:only-of-type {\n",
       "        vertical-align: middle;\n",
       "    }\n",
       "\n",
       "    .dataframe tbody tr th {\n",
       "        vertical-align: top;\n",
       "    }\n",
       "\n",
       "    .dataframe thead th {\n",
       "        text-align: right;\n",
       "    }\n",
       "</style>\n",
       "<table border=\"1\" class=\"dataframe\">\n",
       "  <thead>\n",
       "    <tr style=\"text-align: right;\">\n",
       "      <th></th>\n",
       "      <th>id</th>\n",
       "      <th>experiment_id</th>\n",
       "      <th>dose</th>\n",
       "      <th>response</th>\n",
       "    </tr>\n",
       "  </thead>\n",
       "  <tbody>\n",
       "    <tr>\n",
       "      <th>0</th>\n",
       "      <td>1</td>\n",
       "      <td>1</td>\n",
       "      <td>0.0025</td>\n",
       "      <td>108.67</td>\n",
       "    </tr>\n",
       "    <tr>\n",
       "      <th>1</th>\n",
       "      <td>2</td>\n",
       "      <td>1</td>\n",
       "      <td>0.0080</td>\n",
       "      <td>111.00</td>\n",
       "    </tr>\n",
       "    <tr>\n",
       "      <th>2</th>\n",
       "      <td>3</td>\n",
       "      <td>1</td>\n",
       "      <td>0.0250</td>\n",
       "      <td>102.16</td>\n",
       "    </tr>\n",
       "    <tr>\n",
       "      <th>3</th>\n",
       "      <td>4</td>\n",
       "      <td>1</td>\n",
       "      <td>0.0800</td>\n",
       "      <td>100.27</td>\n",
       "    </tr>\n",
       "    <tr>\n",
       "      <th>4</th>\n",
       "      <td>5</td>\n",
       "      <td>1</td>\n",
       "      <td>0.2500</td>\n",
       "      <td>90.00</td>\n",
       "    </tr>\n",
       "  </tbody>\n",
       "</table>\n",
       "</div>"
      ],
      "text/plain": [
       "   id  experiment_id    dose  response\n",
       "0   1              1  0.0025    108.67\n",
       "1   2              1  0.0080    111.00\n",
       "2   3              1  0.0250    102.16\n",
       "3   4              1  0.0800    100.27\n",
       "4   5              1  0.2500     90.00"
      ]
     },
     "execution_count": 41,
     "metadata": {},
     "output_type": "execute_result"
    }
   ],
   "source": [
    "pd.read_sql_query(\"SELECT * from dose_responses;\",connection).head()"
   ]
  },
  {
   "cell_type": "code",
   "execution_count": 42,
   "metadata": {
    "collapsed": false
   },
   "outputs": [
    {
     "data": {
      "text/plain": [
       "(8314894, 4)"
      ]
     },
     "execution_count": 42,
     "metadata": {},
     "output_type": "execute_result"
    }
   ],
   "source": [
    "pd.read_sql_query(\"SELECT * from dose_responses;\",connection).shape"
   ]
  },
  {
   "cell_type": "code",
   "execution_count": null,
   "metadata": {
    "collapsed": true
   },
   "outputs": [],
   "source": []
  },
  {
   "cell_type": "code",
   "execution_count": 44,
   "metadata": {
    "collapsed": true
   },
   "outputs": [],
   "source": [
    "resp = pd.read_sql_query(\"SELECT * from dose_responses WHERE experiment_id = 1;\",connection)"
   ]
  },
  {
   "cell_type": "code",
   "execution_count": 48,
   "metadata": {
    "collapsed": false
   },
   "outputs": [
    {
     "data": {
      "image/png": "[encoded data removed]",
      "text/plain": [
       "<matplotlib.figure.Figure at 0x7f293492c390>"
      ]
     },
     "metadata": {},
     "output_type": "display_data"
    }
   ],
   "source": [
    "%matplotlib inline\n",
    "plt.plot(resp[\"dose\"], resp[\"response\"]);"
   ]
  },
  {
   "cell_type": "code",
   "execution_count": null,
   "metadata": {
    "collapsed": false
   },
   "outputs": [],
   "source": []
  },
  {
   "cell_type": "code",
   "execution_count": null,
   "metadata": {
    "collapsed": true
   },
   "outputs": [],
   "source": []
  },
  {
   "cell_type": "code",
   "execution_count": null,
   "metadata": {
    "collapsed": true
   },
   "outputs": [],
   "source": []
  },
  {
   "cell_type": "code",
   "execution_count": null,
   "metadata": {
    "collapsed": true
   },
   "outputs": [],
   "source": []
  }
 ],
 "metadata": {
  "kernelspec": {
   "display_name": "Python 2",
   "language": "python",
   "name": "python2"
  },
  "language_info": {
   "codemirror_mode": {
    "name": "ipython",
    "version": 2
   },
   "file_extension": ".py",
   "mimetype": "text/x-python",
   "name": "python",
   "nbconvert_exporter": "python",
   "pygments_lexer": "ipython2",
   "version": "2.7.13"
  }
 },
 "nbformat": 4,
 "nbformat_minor": 2
}
